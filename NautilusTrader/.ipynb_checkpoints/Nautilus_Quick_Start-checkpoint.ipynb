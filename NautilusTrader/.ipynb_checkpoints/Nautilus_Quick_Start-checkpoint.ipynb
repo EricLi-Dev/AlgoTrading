{
 "cells": [
  {
   "cell_type": "markdown",
   "id": "180a8898-7448-403e-8d5a-4b64b10d9394",
   "metadata": {},
   "source": [
    "# Quick Start\n",
    "Reference: https://github.com/nautechsystems/nautilus_trader/blob/master/examples/notebooks/quick_start.ipynb\n",
    "Explains how to get up and running with NautilusTrader backtesting with some FX data. Exploring the Trade and Backtesting engine."
   ]
  },
  {
   "cell_type": "code",
   "execution_count": 3,
   "id": "70466fbb-2e92-4d66-a005-f5e4866a4c44",
   "metadata": {
    "tags": []
   },
   "outputs": [],
   "source": [
    "import datetime\n",
    "import os\n",
    "import shutil\n",
    "from decimal import Decimal\n",
    "\n",
    "import fsspec\n",
    "import pandas as pd\n",
    "from nautilus_trader.core.datetime import dt_to_unix_nanos\n",
    "from nautilus_trader.model.data import QuoteTick\n",
    "from nautilus_trader.model.objects import Price, Quantity\n",
    "\n",
    "from nautilus_trader.backtest.node import BacktestNode, BacktestVenueConfig, BacktestDataConfig, BacktestRunConfig, BacktestEngineConfig\n",
    "from nautilus_trader.config import ImportableStrategyConfig\n",
    "from nautilus_trader.config import LoggingConfig\n",
    "from nautilus_trader.persistence.catalog import ParquetDataCatalog\n",
    "from nautilus_trader.test_kit.providers import TestInstrumentProvider"
   ]
  },
  {
   "cell_type": "code",
   "execution_count": null,
   "id": "e798011d-0126-4922-be5b-48315762a389",
   "metadata": {},
   "outputs": [],
   "source": []
  }
 ],
 "metadata": {
  "kernelspec": {
   "display_name": "Python [conda env:nt]",
   "language": "python",
   "name": "conda-env-nt-py"
  },
  "language_info": {
   "codemirror_mode": {
    "name": "ipython",
    "version": 3
   },
   "file_extension": ".py",
   "mimetype": "text/x-python",
   "name": "python",
   "nbconvert_exporter": "python",
   "pygments_lexer": "ipython3",
   "version": "3.12.1"
  }
 },
 "nbformat": 4,
 "nbformat_minor": 5
}
