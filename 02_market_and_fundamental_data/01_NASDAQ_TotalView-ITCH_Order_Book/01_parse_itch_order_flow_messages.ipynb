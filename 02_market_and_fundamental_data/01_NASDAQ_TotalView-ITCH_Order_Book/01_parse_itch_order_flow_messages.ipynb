{
 "cells": [
  {
   "cell_type": "markdown",
   "id": "ed468fa8-b7d1-493f-9723-6b97d94108e1",
   "metadata": {},
   "source": [
    "# Working with OrderBook Data: NASDAQ ITCH\n",
    "\n",
    "The order book is the primary source of market data, updated throughout the entire day in real time to reflect trading activity\n",
    "\n",
    "The trading activity is reflected in numerous messages that conform to the electronic Financial Information eXchange (FIX) protocol for real-time exchange of securities transactions and market data"
   ]
  },
  {
   "cell_type": "markdown",
   "id": "d3405d04-8986-4927-9ccf-b2fba824f628",
   "metadata": {},
   "source": [
    "## Background\n",
    "\n",
    "### The FIX Protocol \n",
    "The FIX Protocol is the standard for communication before and during trade execution between exchanges, banks, brokers, clearing firms, and other market participants.\n",
    "\n",
    "Exchanges provide access to FIX messages as a real-time data feed that is parsed by algo traders to track market actiity\n",
    "\n",
    "i.e. identifying the footprint of market participants and anticipate next moves.\n",
    "\n",
    "### NASDAQ TotalView-ITCH Order Book data\n",
    "FIX has a dominantly large market shares, exchanges also offer native protocols. The NASDAQ offers a **TotalView ITCH direct data-feed protocol** that allows subscribers to track individual orders for equity intstruments from placement to execution or cancellation.\n",
    "\n",
    "It allows for the construction of the order book that keeps track of the list of active limit buy and sell orders for a security or financial instrument. The orderbook reveals the market depth throughout the day by listing the number of shares being bid or offered at each price point.\n",
    "\n",
    "Market depth is a key indicator of liquidity and the potential price impact of sizable market orders.\n",
    "\n",
    "The ITCH v5.0 spec. declares over 20 message types related to system events, stock characteristics, the placement and modification of limit orders, and trade execution."
   ]
  },
  {
   "cell_type": "markdown",
   "id": "6b7aa63b-370e-43ab-add7-e57a00030c31",
   "metadata": {},
   "source": [
    "## Imports"
   ]
  },
  {
   "cell_type": "code",
   "execution_count": 1,
   "id": "b9878775-279e-4e2c-8ea0-9ddda311354b",
   "metadata": {
    "tags": []
   },
   "outputs": [],
   "source": [
    "import warnings\n",
    "warnings.filterwarnings('ignore')"
   ]
  },
  {
   "cell_type": "code",
   "execution_count": 2,
   "id": "c364cb6b-e881-43a3-a409-779e2de0484d",
   "metadata": {
    "tags": []
   },
   "outputs": [],
   "source": [
    "%matplotlib inline\n",
    "import gzip\n",
    "import shutil\n",
    "from struct import unpack\n",
    "from collections import namedtuple, Counter, defaultdict\n",
    "from pathlib import Path\n",
    "from urllib.request import urlretrieve\n",
    "from urllib.parse import urljoin\n",
    "from datetime import timedelta\n",
    "from time import time\n",
    "\n",
    "import pandas as pd\n",
    "\n",
    "import matplotlib.pyplot as plt\n",
    "from matplotlib.ticker import FuncFormatter\n",
    "import seaborn as sns"
   ]
  },
  {
   "cell_type": "code",
   "execution_count": 3,
   "id": "be2764a0-f3c3-4624-b7b4-7b5da8416a4e",
   "metadata": {
    "tags": []
   },
   "outputs": [],
   "source": [
    "sns.set_style('whitegrid')"
   ]
  },
  {
   "cell_type": "code",
   "execution_count": 4,
   "id": "cdfb3e9f-2fff-4783-b1f2-390b32a96be8",
   "metadata": {
    "tags": []
   },
   "outputs": [],
   "source": [
    "def format_time(t):\n",
    "    \"\"\"Return a formatted time string 'HH:MM:SS\n",
    "    based on a numeric time() value\"\"\"\n",
    "    m, s = divmod(t, 60)\n",
    "    h, m = divmod(m, 60)\n",
    "    return f'{h:0>2.0f}:{m:0>2.0f}:{s:0>5.2f}'"
   ]
  },
  {
   "cell_type": "markdown",
   "id": "f34bf33f-b639-4bee-a61a-acefbd39e22f",
   "metadata": {},
   "source": [
    "## Get NASDAQ ITCH Data from FTP Server\n",
    "Nasdaq offers samples of daily binary files for several months.\n",
    "\n",
    "Code below illustrates how to parse a sample file of ITCH messages and reconstruct both the executed trades and the order book for any tick.\n",
    "\n",
    "The following table shows the frequency of the most common message types for the sample file date March 29, 2018:\n",
    "\n",
    "| Name                    | Offset  | Length  | Value      | Notes                                                                                |\n",
    "|-------------------------|---------|---------|------------|--------------------------------------------------------------------------------------|\n",
    "| Message Type            | 0       | 1       | S          | System Event Message                                                                 |\n",
    "| Stock Locate            | 1       | 2       | Integer    | Always 0                                                                             |\n",
    "| Tracking Number         | 3       | 2       | Integer    | Nasdaq internal tracking number                                                      |\n",
    "| Timestamp               | 5       | 6       | Integer    | Nanoseconds since midnight                                                           |\n",
    "| Order Reference Number  | 11      | 8       | Integer    | The unique reference number assigned to the new order at the time of receipt.        |\n",
    "| Buy/Sell Indicator      | 19      | 1       | Alpha      | The type of order being added. B = Buy Order. S = Sell Order.                        |\n",
    "| Shares                  | 20      | 4       | Integer    | The total number of shares associated with the order being added to the book.        |\n",
    "| Stock                   | 24      | 8       | Alpha      | Stock symbol, right padded with spaces                                               |\n",
    "| Price                   | 32      | 4       | Price (4)  | The display price of the new order. Refer to Data Types for field processing notes.  |\n",
    "| Attribution             | 36      | 4       | Alpha      | Nasdaq Market participant identifier associated with the entered order               |"
   ]
  },
  {
   "cell_type": "markdown",
   "id": "c660bf18-999a-46af-ab27-7353762d8e46",
   "metadata": {},
   "source": [
    "### Set Data Paths"
   ]
  },
  {
   "cell_type": "markdown",
   "id": "1cb7e476-8c05-47c9-b3e3-94a735c37fc2",
   "metadata": {},
   "source": [
    "Store the download in a 'data' subdirectory \\\n",
    "Convert results to hdf format"
   ]
  },
  {
   "cell_type": "code",
   "execution_count": 5,
   "id": "5a87233b-ff69-44cb-8458-bef0b3a7a3cb",
   "metadata": {
    "tags": []
   },
   "outputs": [],
   "source": [
    "data_path = Path('data') # set to e.g. external harddrive\n",
    "itch_store = str(data_path / 'itch.h5')\n",
    "order_book_store = data_path / 'order_book.h5'"
   ]
  },
  {
   "cell_type": "markdown",
   "id": "c3f3d3d2-80b3-41ed-aa88-0edbb0c25857",
   "metadata": {},
   "source": [
    "There are several sample files on the NASDAQ Server: https://emi.nasdaq.com/ITCH/Nasdaq%20ITCH/"
   ]
  },
  {
   "cell_type": "code",
   "execution_count": 6,
   "id": "cf45a052-8d3e-4e9c-88c4-987cf33d66ac",
   "metadata": {
    "tags": []
   },
   "outputs": [],
   "source": [
    "HTTPS_URL = 'https://emi.nasdaq.com/ITCH/Nasdaq%20ITCH/'\n",
    "SOURCE_FILE = '10302019.NASDAQ_ITCH50.gz'"
   ]
  },
  {
   "cell_type": "markdown",
   "id": "b42b4439-5e3f-48de-a946-a8bf7e1ea617",
   "metadata": {},
   "source": [
    "### Download and Unzip Data"
   ]
  },
  {
   "cell_type": "code",
   "execution_count": 7,
   "id": "4ebec153-3100-455e-8cd0-f490ab644983",
   "metadata": {
    "tags": []
   },
   "outputs": [],
   "source": [
    "def may_be_download(url):\n",
    "    \"\"\"Download & unzip ITCH data if not yet available\"\"\"\n",
    "    if not data_path.exists():\n",
    "        print('Creating directory')\n",
    "        data_path.mkdir()\n",
    "    else:\n",
    "        print('Directory exists')\n",
    "\n",
    "    filename = data_path / url.split('/')[-1]\n",
    "    if not filename.exists():\n",
    "        print('Downloading...', url)\n",
    "        urlretrieve(url, filename)\n",
    "    else:\n",
    "        print('File exists')\n",
    "\n",
    "    unzipped = data_path / (filename.stem + '.bin')\n",
    "    if not unzipped.exists():\n",
    "        print('Unzipping to', unzipped)\n",
    "        with gzip.open(str(filename), 'rb') as f_in:\n",
    "            with open(unzipped, 'wb') as f_out:\n",
    "                shutil.copyfileobj(f_in, f_out)\n",
    "    else:\n",
    "        print('File already unpacked')\n",
    "    return unzipped"
   ]
  },
  {
   "cell_type": "code",
   "execution_count": 8,
   "id": "2d97735a-7697-46c2-b4fe-b0cb7777b260",
   "metadata": {
    "tags": []
   },
   "outputs": [
    {
     "name": "stdout",
     "output_type": "stream",
     "text": [
      "Creating directory\n",
      "Downloading... https://emi.nasdaq.com/ITCH/Nasdaq%20ITCH/10302019.NASDAQ_ITCH50.gz\n",
      "Unzipping to data/10302019.NASDAQ_ITCH50.bin\n"
     ]
    }
   ],
   "source": [
    "file_name = may_be_download(urljoin(HTTPS_URL, SOURCE_FILE))\n",
    "date = file_name.name.split('.')[0]"
   ]
  },
  {
   "cell_type": "markdown",
   "id": "f1f1d0fc-0b8a-4d8f-bbc7-a7d3118fd165",
   "metadata": {},
   "source": [
    "## ITCH Format Settings"
   ]
  },
  {
   "cell_type": "markdown",
   "id": "635329cf-9abe-4024-9b0a-5a0b37d687bf",
   "metadata": {},
   "source": [
    "## The `struct` module for binary data\n",
    "\n",
    "ITCH tick data comes in binary format. Python provides the `struct` module to parse binary data using format strings that identify the message elements indicating length and type of the various components of the byte string\n",
    "\n",
    "The following code blocks walk through the steps to parse trading messages and reconstruct the order book"
   ]
  },
  {
   "cell_type": "code",
   "execution_count": 9,
   "id": "efdb6253-2ae6-4b91-8833-a8b8b377062a",
   "metadata": {
    "tags": []
   },
   "outputs": [],
   "source": [
    "event_codes = {'O': 'Start of Messages',\n",
    "               'S': 'Start of System Hours',\n",
    "               'Q': 'Start of Market Hours',\n",
    "               'M': 'End of Market Hours',\n",
    "               'E': 'End of System Hours',\n",
    "               'C': 'End of Messages'}"
   ]
  },
  {
   "cell_type": "code",
   "execution_count": 10,
   "id": "cb4cfc46-d6eb-4487-8e55-c1b407a170ae",
   "metadata": {
    "tags": []
   },
   "outputs": [],
   "source": [
    "encoding = {'primary_market_maker': {'Y': 1, 'N': 0},\n",
    "            'printable'           : {'Y': 1, 'N': 0},\n",
    "            'buy_sell_indicator'  : {'B': 1, 'S': -1},\n",
    "            'cross_type'          : {'O': 0, 'C': 1, 'H': 2},\n",
    "            'imbalance_direction' : {'B': 0, 'S': 1, 'N': 0, 'O': -1}}"
   ]
  },
  {
   "cell_type": "code",
   "execution_count": 11,
   "id": "54296582-6784-4de6-a577-a1e0d2494703",
   "metadata": {
    "tags": []
   },
   "outputs": [],
   "source": [
    "formats = {\n",
    "    ('integer', 2): 'H',  # int of length 2 => format string 'H'\n",
    "    ('integer', 4): 'I',\n",
    "    ('integer', 6): '6s',  # int of length 6 => parse as string, convert later\n",
    "    ('integer', 8): 'Q',\n",
    "    ('alpha',   1): 's',\n",
    "    ('alpha',   2): '2s',\n",
    "    ('alpha',   4): '4s',\n",
    "    ('alpha',   8): '8s',\n",
    "    ('price_4', 4): 'I',\n",
    "    ('price_8', 8): 'Q',\n",
    "}"
   ]
  },
  {
   "cell_type": "markdown",
   "id": "1115582f-e434-4152-baf2-948e042ca76f",
   "metadata": {},
   "source": [
    "### Create message specs for binary data parser"
   ]
  },
  {
   "cell_type": "code",
   "execution_count": null,
   "id": "4926c9c8-7da2-4f70-b368-472dacfbe9f6",
   "metadata": {},
   "outputs": [],
   "source": []
  }
 ],
 "metadata": {
  "kernelspec": {
   "display_name": "Python 3 (ipykernel)",
   "language": "python",
   "name": "python3"
  },
  "language_info": {
   "codemirror_mode": {
    "name": "ipython",
    "version": 3
   },
   "file_extension": ".py",
   "mimetype": "text/x-python",
   "name": "python",
   "nbconvert_exporter": "python",
   "pygments_lexer": "ipython3",
   "version": "3.10.13"
  }
 },
 "nbformat": 4,
 "nbformat_minor": 5
}
